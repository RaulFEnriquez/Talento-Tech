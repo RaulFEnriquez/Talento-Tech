{
  "nbformat": 4,
  "nbformat_minor": 0,
  "metadata": {
    "colab": {
      "provenance": []
    },
    "kernelspec": {
      "name": "python3",
      "display_name": "Python 3"
    },
    "language_info": {
      "name": "python"
    }
  },
  "cells": [
    {
      "cell_type": "code",
      "execution_count": null,
      "metadata": {
        "colab": {
          "base_uri": "https://localhost:8080/"
        },
        "id": "KLAMCoJOmto1",
        "outputId": "5b48235e-a004-4f6c-d34c-15dbd12d0ea0"
      },
      "outputs": [
        {
          "output_type": "stream",
          "name": "stdout",
          "text": [
            "Valor1\n",
            "Hola desde el metodo 1\n",
            "El atributo se actualizo a: 42\n",
            "42\n",
            "La suma entre el numero 10 y el numero 20 es 30\n",
            "30\n",
            "La lista se actualizo a: [1, 2, 3]\n",
            "[1, 2, 3]\n"
          ]
        }
      ],
      "source": [
        "class MiClase:\n",
        "  atributo1 = \"Valor1\"\n",
        "  atributo2 = 0\n",
        "  atributo3 = 0\n",
        "  atributo4 = []\n",
        "\n",
        "  def metodo1(self):\n",
        "    print(\"Hola desde el metodo 1\")\n",
        "\n",
        "  def metodo2(self, parametro):\n",
        "    self.atributo2 = parametro\n",
        "    print(f\"El atributo se actualizo a: {self.atributo2}\")\n",
        "\n",
        "  def metodo3(self, parametro1, parametro2):\n",
        "    self.atributo3 = parametro1 + parametro2\n",
        "    print(f\"La suma entre el numero {parametro1} y el numero {parametro2} es {self.atributo3}\")\n",
        "\n",
        "  def metodo4(self, parametro):\n",
        "    self.atributo4 = parametro\n",
        "    print(f\"La lista se actualizo a: {self.atributo4}\")\n",
        "\n",
        "\n",
        "objeto1 = MiClase()\n",
        "objeto2 = MiClase()\n",
        "objeto3 = MiClase()\n",
        "objeto4 = MiClase()\n",
        "\n",
        "print(objeto1.atributo1)\n",
        "objeto1.metodo1()\n",
        "\n",
        "objeto2.metodo2(42)\n",
        "print(objeto2.atributo2)\n",
        "\n",
        "objeto3.metodo3(10, 20)\n",
        "print(objeto3.atributo3)\n",
        "\n",
        "objeto4.metodo4([1, 2, 3])\n",
        "print(objeto4.atributo4)"
      ]
    },
    {
      "cell_type": "code",
      "source": [
        "class Coche:\n",
        "  def __init__(self, marca, modelo, velocidad):\n",
        "    self.marca = marca\n",
        "    self.modelo = modelo\n",
        "    self.velocidad = velocidad\n",
        "\n",
        "  def acelerar(self, incremento):\n",
        "    self.velocidad += incremento\n",
        "    print(f\"El coche {self.marca} {self.modelo} acelero. Nueva velocidad: {self.velocidad} km/h\")\n",
        "\n",
        "mi_coche = Coche(\"Toyota\", \"Corolla\", 25)\n",
        "\n",
        "mi_coche.acelerar(60)"
      ],
      "metadata": {
        "colab": {
          "base_uri": "https://localhost:8080/"
        },
        "id": "PTFW7w-Ix4ux",
        "outputId": "d7ca0585-16d2-4ff2-ed44-e0910433fee5"
      },
      "execution_count": null,
      "outputs": [
        {
          "output_type": "stream",
          "name": "stdout",
          "text": [
            "El coche Toyota Corolla acelero. Nueva velocidad: 85 km/h\n"
          ]
        }
      ]
    }
  ]
}