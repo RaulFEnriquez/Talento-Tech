{
  "nbformat": 4,
  "nbformat_minor": 0,
  "metadata": {
    "colab": {
      "provenance": []
    },
    "kernelspec": {
      "name": "python3",
      "display_name": "Python 3"
    },
    "language_info": {
      "name": "python"
    }
  },
  "cells": [
    {
      "cell_type": "markdown",
      "source": [
        "#calculadora\n"
      ],
      "metadata": {
        "id": "oONxw_WkPmvt"
      }
    },
    {
      "cell_type": "code",
      "execution_count": null,
      "metadata": {
        "colab": {
          "base_uri": "https://localhost:8080/"
        },
        "id": "4huZlsuSMPhj",
        "outputId": "6692bfe5-787c-4aee-8d26-ed07ef58e4d6"
      },
      "outputs": [
        {
          "output_type": "stream",
          "name": "stdout",
          "text": [
            "hola mundo\n"
          ]
        }
      ],
      "source": [
        "print(\"hola mundo\")"
      ]
    },
    {
      "cell_type": "code",
      "source": [
        "import math\n",
        "\n",
        "def calculadora():\n",
        "  operacion = input(\"Seleccione la operación \\n1 => suma \\n2 => resta \\n3 => multiplicacion \\n4 => divison \\n5 => potenciacion \\n6 => raiz \\n7 => log \\n8 => sen \\n9 => cos \\n10 => tan\\n\")\n",
        "\n",
        "  if operacion == \"1\":\n",
        "    print(\"eligio suma\")\n",
        "    num1 = float(input(\"Ingrese el primer número: \"))\n",
        "    num2 = float(input(\"Ingrese el segundo número: \"))\n",
        "    resultado = num1 + num2\n",
        "  elif operacion == \"2\":\n",
        "    print(\"eligio resta\")\n",
        "    num1 = float(input(\"Ingrese el primer número: \"))\n",
        "    num2 = float(input(\"Ingrese el segundo número: \"))\n",
        "    resultado = num1 - num2\n",
        "  elif operacion == \"3\":\n",
        "    print(\"eligio multiplicacion\")\n",
        "    num1 = float(input(\"Ingrese el primer número: \"))\n",
        "    num2 = float(input(\"Ingrese el segundo número: \"))\n",
        "    resultado = num1 * num2\n",
        "  elif operacion == \"4\":\n",
        "    print(\"eligio division\")\n",
        "    num1 = float(input(\"Ingrese el primer número: \"))\n",
        "    num2 = float(input(\"Ingrese el segundo número: \"))\n",
        "    if num2 == 0:\n",
        "      return \"Error: División por cero\"\n",
        "    else:\n",
        "      resultado = num1 / num2\n",
        "  elif operacion == \"5\":\n",
        "    print(\"eligio potenciacion\")\n",
        "    num1 = float(input(\"Ingrese el número: \"))\n",
        "    num2 = float(input(\"Ingrese el numero de la potencia: \"))\n",
        "    resultado = math.pow(num1, num2)\n",
        "  elif operacion == \"6\":\n",
        "    print(\"eligio raiz\")\n",
        "    num1 = float(input(\"Ingrese el número: \"))\n",
        "    num2 = float(input(\"Ingrese el indice de la raiz: \"))\n",
        "    resultado = math.pow(num1, 1/num2)\n",
        "  elif operacion == \"7\":\n",
        "    print(\"eligio logaritmo\")\n",
        "    num1 = float(input(\"Ingrese el número: \"))\n",
        "    if num1 <= 0:\n",
        "      return \"Error: El número debe ser positivo\"\n",
        "    else:\n",
        "      resultado = math.log(num1)\n",
        "  elif operacion == \"8\":\n",
        "    print(\"eligio seno\")\n",
        "    num1 = float(input(\"Ingrese el número: \"))\n",
        "    resultado = math.sin(num1)\n",
        "  elif operacion == \"9\":\n",
        "    print(\"eligio coseno\")\n",
        "    num1 = float(input(\"Ingrese el número: \"))\n",
        "    resultado = math.cos(num1)\n",
        "  elif operacion == \"10\":\n",
        "    print(\"eligio tangente\")\n",
        "    num1 = float(input(\"Ingrese el número: \"))\n",
        "    resultado = math.tan(num1)\n",
        "  else:\n",
        "    return \"Operación inválida\"\n",
        "\n",
        "  return resultado\n",
        "\n",
        "resultado = calculadora()\n",
        "print(\"El resultado es:\", resultado)"
      ],
      "metadata": {
        "colab": {
          "base_uri": "https://localhost:8080/"
        },
        "id": "i91rDP3ZOOrI",
        "outputId": "5182acac-95f0-4da4-cb8e-95e9355f416f"
      },
      "execution_count": null,
      "outputs": [
        {
          "output_type": "stream",
          "name": "stdout",
          "text": [
            "Seleccione la operación \n",
            "1 => suma \n",
            "2 => resta \n",
            "3 => multiplicacion \n",
            "4 => divison \n",
            "5 => potenciacion \n",
            "6 => raiz \n",
            "7 => log \n",
            "8 => sen \n",
            "9 => cos \n",
            "10 => tan\n",
            "7\n",
            "eligio logaritmo\n",
            "Ingrese el número: 10\n",
            "El resultado es: 2.302585092994046\n"
          ]
        }
      ]
    },
    {
      "cell_type": "code",
      "source": [
        "#calculadora mas compleja"
      ],
      "metadata": {
        "id": "qFg342mESlz9"
      },
      "execution_count": null,
      "outputs": []
    }
  ]
}