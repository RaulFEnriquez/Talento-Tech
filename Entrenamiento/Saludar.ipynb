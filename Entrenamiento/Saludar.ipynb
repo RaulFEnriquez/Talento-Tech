{
  "nbformat": 4,
  "nbformat_minor": 0,
  "metadata": {
    "colab": {
      "provenance": []
    },
    "kernelspec": {
      "name": "python3",
      "display_name": "Python 3"
    },
    "language_info": {
      "name": "python"
    }
  },
  "cells": [
    {
      "cell_type": "code",
      "execution_count": null,
      "metadata": {
        "colab": {
          "base_uri": "https://localhost:8080/"
        },
        "id": "lO--yhFnm-Yt",
        "outputId": "fa43fb4b-185e-448c-f3ad-423c0d378031"
      },
      "outputs": [
        {
          "output_type": "stream",
          "name": "stdout",
          "text": [
            "ingrese la hora actual: 10\n",
            "buenos dias\n"
          ]
        }
      ],
      "source": [
        "def saludar(hora):\n",
        "  if 6 <= hora < 12:\n",
        "    print(\"buenos dias\")\n",
        "  elif 12 <= hora <= 18:\n",
        "    print(\"buenas tardes\")\n",
        "  elif 19 <= hora <= 24 or 0 <= hora < 6:\n",
        "    print(\"buenas noches\")\n",
        "  else:\n",
        "    print(\"ingrese una hora valida\")\n",
        "\n",
        "while True:\n",
        "  try:\n",
        "    hora = int(input(\"ingrese la hora actual: \"))\n",
        "    saludar(hora)\n",
        "    break\n",
        "  except ValueError:\n",
        "    print(\"Entrada inválida. Por favor ingrese un número entero.\")"
      ]
    }
  ]
}