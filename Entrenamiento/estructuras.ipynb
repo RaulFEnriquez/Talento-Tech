{
  "nbformat": 4,
  "nbformat_minor": 0,
  "metadata": {
    "colab": {
      "provenance": []
    },
    "kernelspec": {
      "name": "python3",
      "display_name": "Python 3"
    },
    "language_info": {
      "name": "python"
    }
  },
  "cells": [
    {
      "cell_type": "code",
      "execution_count": null,
      "metadata": {
        "id": "AhJoGpD2SXFM"
      },
      "outputs": [],
      "source": [
        "lis = [10, 20, 30, 40, 50, 60, 70, 80, 90, 100]\n",
        "tup = (\"felipe\", \"sebastian\", \"alejandro\", \"david\")\n",
        "con = {1, 3, 5, 11, 13, 15, 17, 21, 23, 25}\n",
        "\n",
        "dic = {\n",
        "       \"Calculo multivariable\" : \"Lunes\",\n",
        "       \"Termodinamica\" : \"Martes\",\n",
        "       \"Programacion\" : \"Miercoles\",\n",
        "       \"Circuitos digitales\" : \"Jueves\",\n",
        "       \"Dinamica\" : \"Viernes\"\n",
        "      }"
      ]
    },
    {
      "cell_type": "code",
      "source": [
        "for elemento in lis:\n",
        "  print(elemento)"
      ],
      "metadata": {
        "colab": {
          "base_uri": "https://localhost:8080/"
        },
        "id": "tfjh1v2splul",
        "outputId": "37a063de-4f79-4340-bb17-1dff64ef8242"
      },
      "execution_count": null,
      "outputs": [
        {
          "output_type": "stream",
          "name": "stdout",
          "text": [
            "10\n",
            "20\n",
            "30\n",
            "40\n",
            "50\n",
            "60\n",
            "70\n",
            "80\n",
            "90\n",
            "100\n"
          ]
        }
      ]
    },
    {
      "cell_type": "code",
      "source": [
        "for elemento in tup:\n",
        "  print(elemento)"
      ],
      "metadata": {
        "colab": {
          "base_uri": "https://localhost:8080/"
        },
        "id": "T8Pzpi5zqGzU",
        "outputId": "d78e0b16-76f2-4c1e-fdaf-4641e2c5095a"
      },
      "execution_count": null,
      "outputs": [
        {
          "output_type": "stream",
          "name": "stdout",
          "text": [
            "felipe\n",
            "sebastian\n",
            "alejandro\n",
            "david\n"
          ]
        }
      ]
    },
    {
      "cell_type": "code",
      "source": [
        "for elemento in con:\n",
        "  print(elemento)"
      ],
      "metadata": {
        "colab": {
          "base_uri": "https://localhost:8080/"
        },
        "id": "HdXPm1hHqLo7",
        "outputId": "e0704f00-345d-4ef7-f6c1-0c8904f380dd"
      },
      "execution_count": null,
      "outputs": [
        {
          "output_type": "stream",
          "name": "stdout",
          "text": [
            "1\n",
            "3\n",
            "5\n",
            "7\n",
            "15\n",
            "17\n",
            "21\n",
            "23\n",
            "25\n"
          ]
        }
      ]
    },
    {
      "cell_type": "code",
      "source": [
        "for materia, dia in dic.items():\n",
        "  print(f\"{materia} toca el dia {dia}\\n\")"
      ],
      "metadata": {
        "colab": {
          "base_uri": "https://localhost:8080/"
        },
        "id": "v-uMsfvMqW04",
        "outputId": "2f9b2e64-4392-4577-f8e5-829a690cace1"
      },
      "execution_count": null,
      "outputs": [
        {
          "output_type": "stream",
          "name": "stdout",
          "text": [
            "Calculo multivariable toca el dia Lunes\n",
            "\n",
            "Termodinamica toca el dia Martes\n",
            "\n",
            "Programacion toca el dia Miercoles\n",
            "\n",
            "Circuitos digitales toca el dia Jueves\n",
            "\n",
            "Dinamica toca el dia Viernes\n",
            "\n"
          ]
        }
      ]
    }
  ]
}